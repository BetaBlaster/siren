{
 "cells": [
  {
   "cell_type": "code",
   "execution_count": 3,
   "metadata": {},
   "outputs": [],
   "source": [
    "import numpy\n",
    "import urllib ## should use urllib.request for urlopen\n",
    "import ast\n",
    "import json\n",
    "import os\n",
    "import eyed3\n",
    "import sys\n",
    "import re\n",
    "\n",
    "from urllib.request import urlopen\n",
    "\n",
    "from PIL import Image\n",
    "import requests\n",
    "from io import BytesIO"
   ]
  },
  {
   "cell_type": "code",
   "execution_count": 5,
   "metadata": {
    "tags": []
   },
   "outputs": [
    {
     "output_type": "stream",
     "name": "stdout",
     "text": "0 C U Girl.mp3\n1 Troy Ave - She Belongs to the Game (Audio).mp3\n2 Khalid - Stay (Audio).mp3\n3 Caleb Belkin - I Fall In Love Too Easily.mp3\n"
    }
   ],
   "source": [
    "files = os.listdir(\".\")\n",
    "\n",
    "f = re.compile('.*.mp3')\n",
    "listOfMp3s = list(filter(f.match, files))\n",
    "\n",
    "counter = 0\n",
    "for i in listOfMp3s:\n",
    "    print(counter, i)\n",
    "    counter += 1\n",
    "    \n",
    "songIndex = int(input(\"Enter song index: \"))"
   ]
  },
  {
   "cell_type": "code",
   "execution_count": 6,
   "metadata": {},
   "outputs": [
    {
     "output_type": "execute_result",
     "data": {
      "text/plain": "'C U Girl.mp3'"
     },
     "metadata": {},
     "execution_count": 6
    }
   ],
   "source": [
    "listOfMp3s[songIndex]"
   ]
  },
  {
   "cell_type": "code",
   "execution_count": 4,
   "metadata": {},
   "outputs": [
    {
     "name": "stdout",
     "output_type": "stream",
     "text": [
      "Enter seach term: \n",
      "Khalid+Stay+\n"
     ]
    }
   ],
   "source": [
    "###### IF INPUT NULL, TAKE MP3 NAME\n",
    "\n",
    "songName = input(\"Enter seach term: \")\n",
    "if songName is \"\":\n",
    "    songName = listOfMp3s[songIndex].replace(\" - \", \" \")\n",
    "    songName = songName.replace(\"official\", \"\")\n",
    "    songName = songName.replace(\"Official\", \"\")\n",
    "    songName = songName.replace(\"OFFICIAL\", \"\")\n",
    "    songName = songName.replace(\"&\", \"and\")\n",
    "    songName = songName.replace(\"lyrics\", \"\")\n",
    "    songName = songName.replace(\"Lyrics\", \"\")\n",
    "    songName = songName.replace(\"LYRICS\", \"\")\n",
    "    songName = songName.replace(\"lyric\", \"\")\n",
    "    songName = songName.replace(\"Lyric\", \"\")\n",
    "    songName = songName.replace(\"Music\", \"\")\n",
    "    songName = songName.replace(\"music\", \"\")\n",
    "    songName = songName.replace(\"HD\", \"\")\n",
    "    songName = songName.replace(\"HQ\", \"\")\n",
    "    songName = songName.replace(\"Audio\", \"\")\n",
    "    songName = songName.replace(\"audio\", \"\")\n",
    "    songName = songName.replace(\"AUDIO\", \"\")\n",
    "    songName = songName.replace(\"Official\", \"\")\n",
    "    songName = songName.replace(\"Off\", \"\")\n",
    "    songName = songName.replace(\"Of\", \"\")\n",
    "    songName = songName.replace(\"of\", \"\")\n",
    "    songName = songName.replace(\"off\", \"\")\n",
    "    songName = songName.replace(\"official\", \"\")\n",
    "    songName = songName.replace(\"Video\", \"\")\n",
    "    songName = songName.replace(\"Produced\", \"\")\n",
    "    songName = songName.replace(\"Prod\", \"\")\n",
    "    songName = songName.replace(\"Remix\", \"\")\n",
    "    songName = songName.replace(\"remix\", \"\")\n",
    "    songName = songName.replace(\"dir\", \"\")\n",
    "    songName = songName.replace(\"Dir\", \"\")\n",
    "    songName = songName.replace(\"by\", \"\")\n",
    "\n",
    "    songName = songName.replace(\"ñ\", \"n\")\n",
    "\n",
    "    \n",
    "    \n",
    "    songName = songName.replace(\"(\", \"\")\n",
    "    songName = songName.replace(\"[\", \"\")\n",
    "    songName = songName.replace(\"]\", \"\")\n",
    "    songName = songName.replace(\")\", \"\")\n",
    "    songName = songName.replace(\"{\", \"\")\n",
    "    songName = songName.replace(\"}\", \"\")\n",
    "    songName = songName.replace(\".\", \"\")\n",
    "    songName = songName.replace(\",\", \"\")\n",
    "    songName = songName.replace(\"–\", \"\")\n",
    "    \n",
    "    songName = songName.replace(\"mp3\", \"\")\n",
    "    songName = songName.replace(\"Spotify\", \"\")\n",
    "    songName = songName.replace(\"Screen\", \"\")\n",
    "    songName = songName.replace(\"screen\", \"\")\n",
    "    songName = songName.replace(\"Ft\", \"\")\n",
    "    songName = songName.replace(\"ft\", \"\")\n",
    "    songName = songName.replace(\"Feat\", \"\")\n",
    "    songName = songName.replace(\"feat\", \"\")\n",
    "    songName = songName.replace(\"version\", \"\")\n",
    "    songName = songName.replace(\"Version\", \"\")\n",
    "    songName = songName.replace(\"Explicit\", \"\")\n",
    "    songName = songName.replace(\"explicit\", \"\")\n",
    "\n",
    "    \n",
    "    songName = songName.replace(\"   \", \" \")\n",
    "    songName = songName.replace(\"  \", \" \")\n",
    "\n",
    "\n",
    "\n",
    "\n",
    "songName = songName.replace(\" \", \"+\")\n",
    "\n",
    "print(songName)"
   ]
  },
  {
   "cell_type": "code",
   "execution_count": 5,
   "metadata": {},
   "outputs": [],
   "source": [
    "#data = [d for d in data if 'user/ageInSeconds' in d and d['user/ageInSeconds'] < 60*60*24*365*100]\n",
    "ituneURL = urllib.request.urlopen(\"https://itunes.apple.com/search?term=\"+songName+\"&limit=10&entity=song\")"
   ]
  },
  {
   "cell_type": "code",
   "execution_count": 6,
   "metadata": {},
   "outputs": [],
   "source": [
    "d = ituneURL.read()"
   ]
  },
  {
   "cell_type": "code",
   "execution_count": 7,
   "metadata": {},
   "outputs": [
    {
     "data": {
      "text/plain": [
       "b'\\n\\n\\n{\\n \"resultCount\":5,\\n \"results\": [\\n{\"wrapperType\":\"track\", \"kind\":\"song\", \"artistId\":82842423, \"collectionId\":1376316256, \"trackId\":1376317683, \"artistName\":\"Khalid\", \"collectionName\":\"Uncle Drew (Original Motion Picture Soundtrack)\", \"trackName\":\"Stay\", \"collectionCensoredName\":\"Uncle Drew (Original Motion Picture Soundtrack)\", \"trackCensoredName\":\"Stay\", \"collectionArtistId\":80204262, \"collectionArtistName\":\"Various Artists\", \"artistViewUrl\":\"https://music.apple.com/us/artist/khalid/82842423?uo=4\", \"collectionViewUrl\":\"https://music.apple.com/us/album/stay/1376316256?i=1376317683&uo=4\", \"trackViewUrl\":\"https://music.apple.com/us/album/stay/1376316256?i=1376317683&uo=4\", \\n\"previewUrl\":\"https://audio-ssl.itunes.apple.com/apple-assets-us-std-000001/AudioPreview125/v4/98/9b/d8/989bd836-65a7-c01c-75b2-d37f2a2b29a3/mzaf_6435295309556107663.plus.aac.p.m4a\", \"artworkUrl30\":\"https://is5-ssl.mzstatic.com/image/thumb/Music118/v4/f0/5c/c6/f05cc65f-9044-f930-48f5-1f43731ea3bb/source/30x30bb.jpg\", \"artworkUrl60\":\"https://is5-ssl.mzstatic.com/image/thumb/Music118/v4/f0/5c/c6/f05cc65f-9044-f930-48f5-1f43731ea3bb/source/60x60bb.jpg\", \"artworkUrl100\":\"https://is5-ssl.mzstatic.com/image/thumb/Music118/v4/f0/5c/c6/f05cc65f-9044-f930-48f5-1f43731ea3bb/source/100x100bb.jpg\", \"collectionPrice\":9.99, \"trackPrice\":1.29, \"releaseDate\":\"2018-06-15T07:00:00Z\", \"collectionExplicitness\":\"explicit\", \"trackExplicitness\":\"notExplicit\", \"discCount\":1, \"discNumber\":1, \"trackCount\":16, \"trackNumber\":12, \"trackTimeMillis\":204609, \"country\":\"USA\", \"currency\":\"USD\", \"primaryGenreName\":\"Soundtrack\", \"isStreamable\":true}, \\n{\"wrapperType\":\"track\", \"kind\":\"song\", \"artistId\":82842423, \"collectionId\":1383026496, \"trackId\":1383028923, \"artistName\":\"Khalid\", \"collectionName\":\"Uncle Drew (Original Motion Picture Soundtrack)\", \"trackName\":\"Stay\", \"collectionCensoredName\":\"Uncle Drew (Original Motion Picture Soundtrack)\", \"trackCensoredName\":\"Stay\", \"collectionArtistId\":80204262, \"collectionArtistName\":\"Various Artists\", \"artistViewUrl\":\"https://music.apple.com/us/artist/khalid/82842423?uo=4\", \"collectionViewUrl\":\"https://music.apple.com/us/album/stay/1383026496?i=1383028923&uo=4\", \"trackViewUrl\":\"https://music.apple.com/us/album/stay/1383026496?i=1383028923&uo=4\", \\n\"previewUrl\":\"https://audio-ssl.itunes.apple.com/apple-assets-us-std-000001/AudioPreview125/v4/82/6e/c7/826ec777-4dce-e0d2-456a-c191450ac9b3/mzaf_6260432507746829770.plus.aac.p.m4a\", \"artworkUrl30\":\"https://is5-ssl.mzstatic.com/image/thumb/Music115/v4/d8/0e/a9/d80ea92b-2267-1d3c-2232-725971324dfa/source/30x30bb.jpg\", \"artworkUrl60\":\"https://is5-ssl.mzstatic.com/image/thumb/Music115/v4/d8/0e/a9/d80ea92b-2267-1d3c-2232-725971324dfa/source/60x60bb.jpg\", \"artworkUrl100\":\"https://is5-ssl.mzstatic.com/image/thumb/Music115/v4/d8/0e/a9/d80ea92b-2267-1d3c-2232-725971324dfa/source/100x100bb.jpg\", \"collectionPrice\":9.99, \"trackPrice\":1.29, \"releaseDate\":\"2018-06-15T07:00:00Z\", \"collectionExplicitness\":\"cleaned\", \"trackExplicitness\":\"notExplicit\", \"discCount\":1, \"discNumber\":1, \"trackCount\":16, \"trackNumber\":12, \"trackTimeMillis\":204658, \"country\":\"USA\", \"currency\":\"USD\", \"primaryGenreName\":\"R&B/Soul\", \"isStreamable\":true}, \\n{\"wrapperType\":\"track\", \"kind\":\"song\", \"artistId\":302166615, \"collectionId\":1464243671, \"trackId\":1464243973, \"artistName\":\"Freddie Gibbs & Madlib\", \"collectionName\":\"Bandana\", \"trackName\":\"Giannis (feat. Anderson .Paak)\", \"collectionCensoredName\":\"Bandana\", \"trackCensoredName\":\"Giannis (feat. Anderson .Paak)\", \"artistViewUrl\":\"https://music.apple.com/us/artist/freddie-gibbs/302166615?uo=4\", \"collectionViewUrl\":\"https://music.apple.com/us/album/giannis-feat-anderson-paak/1464243671?i=1464243973&uo=4\", \"trackViewUrl\":\"https://music.apple.com/us/album/giannis-feat-anderson-paak/1464243671?i=1464243973&uo=4\", \\n\"previewUrl\":\"https://audio-ssl.itunes.apple.com/apple-assets-us-std-000001/AudioPreview113/v4/27/15/8b/27158bfc-a647-8bb3-700c-9a004a5a927c/mzaf_8807430123172523635.plus.aac.p.m4a\", \"artworkUrl30\":\"https://is4-ssl.mzstatic.com/image/thumb/Music113/v4/65/68/c4/6568c418-1ea7-f066-9981-26d36ac6eb9d/source/30x30bb.jpg\", \"artworkUrl60\":\"https://is4-ssl.mzstatic.com/image/thumb/Music113/v4/65/68/c4/6568c418-1ea7-f066-9981-26d36ac6eb9d/source/60x60bb.jpg\", \"artworkUrl100\":\"https://is4-ssl.mzstatic.com/image/thumb/Music113/v4/65/68/c4/6568c418-1ea7-f066-9981-26d36ac6eb9d/source/100x100bb.jpg\", \"collectionPrice\":9.99, \"trackPrice\":1.29, \"releaseDate\":\"2019-06-28T00:00:00Z\", \"collectionExplicitness\":\"explicit\", \"trackExplicitness\":\"notExplicit\", \"discCount\":1, \"discNumber\":1, \"trackCount\":15, \"trackNumber\":10, \"trackTimeMillis\":198914, \"country\":\"USA\", \"currency\":\"USD\", \"primaryGenreName\":\"Hip-Hop/Rap\", \"isStreamable\":true}, \\n{\"wrapperType\":\"track\", \"kind\":\"song\", \"artistId\":82842423, \"collectionId\":1445103534, \"trackId\":1445103535, \"artistName\":\"Khalid\", \"collectionName\":\"DJ Rob Dinero - Timeless R&B, Vol. 2 (DJ Mix)\", \"trackName\":\"Stay (Mixed)\", \"collectionCensoredName\":\"DJ Rob Dinero - Timeless R&B, Vol. 2 (DJ Mix)\", \"trackCensoredName\":\"Stay (Mixed)\", \"collectionArtistId\":282742947, \"collectionArtistName\":\"DJ Rob Dinero\", \"collectionArtistViewUrl\":\"https://music.apple.com/us/artist/dj-rob-dinero/282742947?uo=4\", \"artistViewUrl\":\"https://music.apple.com/us/artist/khalid/82842423?uo=4\", \"collectionViewUrl\":\"https://music.apple.com/us/album/stay-mixed/1445103534?i=1445103535&uo=4\", \"trackViewUrl\":\"https://music.apple.com/us/album/stay-mixed/1445103534?i=1445103535&uo=4\", \\n\"previewUrl\":\"https://audio-ssl.itunes.apple.com/apple-assets-us-std-000001/AudioPreview128/v4/17/c3/83/17c38387-c8b3-12e2-1294-329385f30d94/mzaf_6514186428328279669.plus.aac.p.m4a\", \"artworkUrl30\":\"https://is3-ssl.mzstatic.com/image/thumb/Music118/v4/fe/7c/56/fe7c560f-42ae-9d74-c3cc-dfeb6faea08e/source/30x30bb.jpg\", \"artworkUrl60\":\"https://is3-ssl.mzstatic.com/image/thumb/Music118/v4/fe/7c/56/fe7c560f-42ae-9d74-c3cc-dfeb6faea08e/source/60x60bb.jpg\", \"artworkUrl100\":\"https://is3-ssl.mzstatic.com/image/thumb/Music118/v4/fe/7c/56/fe7c560f-42ae-9d74-c3cc-dfeb6faea08e/source/100x100bb.jpg\", \"releaseDate\":\"2018-11-29T08:00:00Z\", \"collectionExplicitness\":\"explicit\", \"trackExplicitness\":\"explicit\", \"discCount\":1, \"discNumber\":1, \"trackCount\":24, \"trackNumber\":1, \"trackTimeMillis\":160000, \"country\":\"USA\", \"currency\":\"USD\", \"primaryGenreName\":\"R&B/Soul\", \"contentAdvisoryRating\":\"Explicit\", \"isStreamable\":true}, \\n{\"wrapperType\":\"track\", \"kind\":\"song\", \"artistId\":394810969, \"collectionId\":394810968, \"trackId\":394810980, \"artistName\":\"Khalid Iman\", \"collectionName\":\"What\\'s the T?\", \"trackName\":\"Stay With Me\", \"collectionCensoredName\":\"What\\'s the T?\", \"trackCensoredName\":\"Stay With Me\", \"artistViewUrl\":\"https://music.apple.com/us/artist/khalid-iman/394810969?uo=4\", \"collectionViewUrl\":\"https://music.apple.com/us/album/stay-with-me/394810968?i=394810980&uo=4\", \"trackViewUrl\":\"https://music.apple.com/us/album/stay-with-me/394810968?i=394810980&uo=4\", \"previewUrl\":\"https://audio-ssl.itunes.apple.com/apple-assets-us-std-000001/Music/db/b0/e2/mzm.ipydpfic.aac.p.m4a\", \"artworkUrl30\":\"https://is1-ssl.mzstatic.com/image/thumb/Music/v4/7f/01/83/7f01832c-a480-2a00-5bdc-2776f480444c/source/30x30bb.jpg\", \"artworkUrl60\":\"https://is1-ssl.mzstatic.com/image/thumb/Music/v4/7f/01/83/7f01832c-a480-2a00-5bdc-2776f480444c/source/60x60bb.jpg\", \"artworkUrl100\":\"https://is1-ssl.mzstatic.com/image/thumb/Music/v4/7f/01/83/7f01832c-a480-2a00-5bdc-2776f480444c/source/100x100bb.jpg\", \"collectionPrice\":9.99, \"trackPrice\":0.99, \"releaseDate\":\"2005-10-30T07:00:00Z\", \"collectionExplicitness\":\"notExplicit\", \"trackExplicitness\":\"notExplicit\", \"discCount\":1, \"discNumber\":1, \"trackCount\":13, \"trackNumber\":8, \"trackTimeMillis\":237401, \"country\":\"USA\", \"currency\":\"USD\", \"primaryGenreName\":\"Pop\", \"isStreamable\":true}]\\n}\\n\\n\\n'"
      ]
     },
     "execution_count": 7,
     "metadata": {},
     "output_type": "execute_result"
    }
   ],
   "source": [
    "d"
   ]
  },
  {
   "cell_type": "code",
   "execution_count": 8,
   "metadata": {},
   "outputs": [],
   "source": [
    "encoding = ituneURL.info().get_content_charset('utf-8')\n",
    "json_obj = json.loads(d.decode(encoding))"
   ]
  },
  {
   "cell_type": "code",
   "execution_count": 9,
   "metadata": {
    "scrolled": true
   },
   "outputs": [
    {
     "name": "stdout",
     "output_type": "stream",
     "text": [
      "Stay  by  Khalid \n",
      " Uncle Drew (Original Motion Picture Soundtrack) :  12  of  16 \n",
      "\n",
      "Stay  by  Khalid \n",
      " Uncle Drew (Original Motion Picture Soundtrack) :  12  of  16 \n",
      "\n",
      "Giannis (feat. Anderson .Paak)  by  Freddie Gibbs & Madlib \n",
      " Bandana :  10  of  15 \n",
      "\n",
      "Stay (Mixed)  by  Khalid \n",
      " DJ Rob Dinero - Timeless R&B, Vol. 2 (DJ Mix) :  1  of  24 \n",
      "\n",
      "Stay With Me  by  Khalid Iman \n",
      " What's the T? :  8  of  13 \n",
      "\n",
      "Enter result index: 0\n",
      "0\n"
     ]
    }
   ],
   "source": [
    "\n",
    "for i in range(len(json_obj[\"results\"])):\n",
    "    print(json_obj[\"results\"][i][\"trackName\"], \" by \", json_obj[\"results\"][i][\"artistName\"], \"\\n\", \n",
    "         json_obj[\"results\"][i][\"collectionName\"], \": \", json_obj[\"results\"][i][\"trackNumber\"], \" of \", json_obj[\"results\"][i][\"trackCount\"], \"\\n\")\n",
    "\n",
    "jsonIndex = input(\"Enter result index: \")\n",
    "\n",
    "if jsonIndex is \"\":\n",
    "    jsonIndex = 0\n",
    "\n",
    "jsonIndex = int(jsonIndex)\n",
    "print(jsonIndex)"
   ]
  },
  {
   "cell_type": "code",
   "execution_count": null,
   "metadata": {},
   "outputs": [
    {
     "name": "stdout",
     "output_type": "stream",
     "text": [
      "https://is5-ssl.mzstatic.com/image/thumb/Music118/v4/f0/5c/c6/f05cc65f-9044-f930-48f5-1f43731ea3bb/source/800x800bb.jpg\n"
     ]
    }
   ],
   "source": [
    "\n",
    "imageURL = json_obj[\"results\"][jsonIndex][\"artworkUrl100\"]\n",
    "imageURL = imageURL.replace(\"100x100\", \"800x800\")\n",
    "\n",
    "print(imageURL)\n",
    "\n",
    "#imageArt = requests.get(imageURL)\n",
    "\n",
    "imageData = urlopen(imageURL)  \n",
    "imageArt = imageData.read()"
   ]
  },
  {
   "cell_type": "code",
   "execution_count": null,
   "metadata": {
    "scrolled": true
   },
   "outputs": [],
   "source": [
    "audiofile = eyed3.load(listOfMp3s[songIndex])\n",
    "audiofile"
   ]
  },
  {
   "cell_type": "code",
   "execution_count": null,
   "metadata": {
    "scrolled": true
   },
   "outputs": [],
   "source": [
    "audiofile.tag.artist = json_obj[\"results\"][jsonIndex][\"artistName\"]\n",
    "audiofile.tag.album = json_obj[\"results\"][jsonIndex][\"collectionName\"]\n",
    "audiofile.tag.title = json_obj[\"results\"][jsonIndex][\"trackName\"]\n",
    "audiofile.tag.track_num = (json_obj[\"results\"][jsonIndex][\"trackNumber\"], json_obj[\"results\"][jsonIndex][\"trackCount\"])\n",
    "audiofile.tag.images.remove(u'')\n",
    "audiofile.tag.images.set(1, imageArt , \"image/jpeg\" ,u\"Description\")\n",
    "audiofile.tag.genre = json_obj[\"results\"][jsonIndex][\"primaryGenreName\"]\n",
    "\n",
    "# audiofile.tag.recording_date\n",
    "# audiofile.tag.bpm\n",
    "# ADD YEAR OF RELEASE, MORE TAG STUFF = MORE BETTER\n"
   ]
  },
  {
   "cell_type": "code",
   "execution_count": null,
   "metadata": {},
   "outputs": [],
   "source": [
    "try:\n",
    "    audiofile.tag.album_artist = json_obj[\"results\"][jsonIndex][\"collectionArtistName\"]\n",
    "except:\n",
    "    audiofile.tag.album_artist = json_obj[\"results\"][jsonIndex][\"artistName\"]"
   ]
  },
  {
   "cell_type": "code",
   "execution_count": null,
   "metadata": {},
   "outputs": [],
   "source": [
    "audiofile.tag.save(backup=False)"
   ]
  },
  {
   "cell_type": "code",
   "execution_count": null,
   "metadata": {},
   "outputs": [],
   "source": [
    "print(audiofile.tag.title, \" from \", audiofile.tag.album)\n",
    "\n",
    "print(audiofile.tag.album_artist)"
   ]
  },
  {
   "cell_type": "code",
   "execution_count": null,
   "metadata": {},
   "outputs": [],
   "source": []
  }
 ],
 "metadata": {
  "kernelspec": {
   "display_name": "Python 3",
   "language": "python",
   "name": "python3"
  },
  "language_info": {
   "codemirror_mode": {
    "name": "ipython",
    "version": 3
   },
   "file_extension": ".py",
   "mimetype": "text/x-python",
   "name": "python",
   "nbconvert_exporter": "python",
   "pygments_lexer": "ipython3",
   "version": "3.7.3-final"
  }
 },
 "nbformat": 4,
 "nbformat_minor": 2
}